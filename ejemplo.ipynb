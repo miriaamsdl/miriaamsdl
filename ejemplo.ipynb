{
 "cells": [
  {
   "cell_type": "markdown",
   "metadata": {},
   "source": [
    "# Mi primer Notebook!"
   ]
  },
  {
   "cell_type": "markdown",
   "metadata": {},
   "source": [
    "2do CB. Sánchez de Lucas, Miriam"
   ]
  },
  {
   "cell_type": "code",
   "execution_count": 1,
   "metadata": {},
   "outputs": [
    {
     "name": "stdout",
     "output_type": "stream",
     "text": [
      "Hola Mundo\n"
     ]
    }
   ],
   "source": [
    "print(\"Hola Mundo\")"
   ]
  },
  {
   "cell_type": "markdown",
   "metadata": {},
   "source": [
    "## Mis primeros descriptivos con Pandas"
   ]
  },
  {
   "cell_type": "markdown",
   "metadata": {},
   "source": [
    "Importa la biblioteca pandas y la asigna al alias pd para análisis y manipulación de datos en Python."
   ]
  },
  {
   "cell_type": "code",
   "execution_count": null,
   "metadata": {},
   "outputs": [],
   "source": [
    "# Importa la biblioteca pandas y la renombra como pd para facilitar su uso.\n",
    "import pandas as pd"
   ]
  },
  {
   "cell_type": "markdown",
   "metadata": {},
   "source": [
    "Crea un DataFrame df con pandas usando un diccionario que contiene columnas 'edad' y 'peso' con sus valores."
   ]
  },
  {
   "cell_type": "code",
   "execution_count": null,
   "metadata": {},
   "outputs": [],
   "source": [
    "# Crea un diccionario con datos de edad y peso\n",
    "datos = {\n",
    "    'edad': [8, 9, 10, 11, 12],\n",
    "    'peso': [30, 32, 35, 37, 40]\n",
    "}\n",
    "# Convierte el diccionario en un DataFrame de pandas para análisis de datos\n",
    "df = pd.DataFrame(datos)\n"
   ]
  },
  {
   "cell_type": "markdown",
   "metadata": {},
   "source": [
    "Calcula y muestra la media y desviación típica de 'edad' y 'peso' en el DataFrame df."
   ]
  },
  {
   "cell_type": "code",
   "execution_count": null,
   "metadata": {},
   "outputs": [
    {
     "name": "stdout",
     "output_type": "stream",
     "text": [
      "Media edad 10.0\n",
      "Desviación típica edad 1.5811388300841898\n",
      "Media peso 34.8\n",
      "Desviación típica peso 3.9623225512317903\n"
     ]
    }
   ],
   "source": [
    "# Calcula la media de la columna 'edad' del DataFrame df\n",
    "media_edad = df['edad'].mean()\n",
    "# Calcula la desviación típica de la columna 'edad' del DataFrame df\n",
    "desviacion_tipica_edad = df['edad'].std()\n",
    "\n",
    "# Calcula la media de la columna 'peso' del DataFrame df\n",
    "media_peso = df['peso'].mean()\n",
    "# Calcula la desviación típica de la columna 'peso' del DataFrame df\n",
    "desviacion_tipica_peso = df['peso'].std()\n",
    "\n",
    "# Imprime la media de la edad\n",
    "print(\"Media edad\", media_edad)\n",
    "# Imprime la desviación típica de la edad\n",
    "print(\"Desviación típica edad\", desviacion_tipica_edad)\n",
    "# Imprime la media del peso\n",
    "print(\"Media peso\", media_peso)\n",
    "# Imprime la desviación típica del peso\n",
    "print(\"Desviación típica peso\", desviacion_tipica_peso)"
   ]
  }
 ],
 "metadata": {
  "kernelspec": {
   "display_name": "Python 3",
   "language": "python",
   "name": "python3"
  },
  "language_info": {
   "codemirror_mode": {
    "name": "ipython",
    "version": 3
   },
   "file_extension": ".py",
   "mimetype": "text/x-python",
   "name": "python",
   "nbconvert_exporter": "python",
   "pygments_lexer": "ipython3",
   "version": "3.11.9"
  }
 },
 "nbformat": 4,
 "nbformat_minor": 2
}
